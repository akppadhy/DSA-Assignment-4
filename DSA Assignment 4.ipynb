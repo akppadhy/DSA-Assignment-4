{
 "cells": [
  {
   "cell_type": "code",
   "execution_count": null,
   "id": "e7023013-3917-4273-a835-2fb756c805ff",
   "metadata": {},
   "outputs": [],
   "source": [
    "#1. Given three integer arrays arr1, arr2 and arr3 sorted in strictly increasing order, return a sorted array of only the integers that appeared in all three arrays.\n",
    "\n",
    "#Example 1:\n",
    "\n",
    "#Input: arr1 = [1,2,3,4,5], arr2 = [1,2,5,7,9], arr3 = [1,3,4,5,8]\n",
    "\n",
    "#Output: [1,5]\n",
    "\n",
    "#Explanation: Only 1 and 5 appeared in the three arrays."
   ]
  },
  {
   "cell_type": "code",
   "execution_count": 1,
   "id": "cb388259-a310-45f6-9d7e-c4a270d845f6",
   "metadata": {},
   "outputs": [
    {
     "name": "stdout",
     "output_type": "stream",
     "text": [
      "[1, 5]\n"
     ]
    }
   ],
   "source": [
    "def find_common_elements(arr1, arr2, arr3):\n",
    "    set1 = set(arr1)\n",
    "    set2 = set(arr2)\n",
    "    set3 = set(arr3)\n",
    "    \n",
    "    result = list(set1.intersection(set2, set3))\n",
    "    return result\n",
    "\n",
    "\n",
    "# Test Function\n",
    "arr1 = [1, 2, 3, 4, 5]\n",
    "arr2 = [1, 2, 5, 7, 9]\n",
    "arr3 = [1, 3, 4, 5, 8]\n",
    "\n",
    "result = find_common_elements(arr1, arr2, arr3)\n",
    "print(result) "
   ]
  },
  {
   "cell_type": "code",
   "execution_count": null,
   "id": "31d21027-4a99-4618-ade3-691508ac1ceb",
   "metadata": {},
   "outputs": [],
   "source": [
    "#2. Given two 0-indexed integer arrays nums1 and nums2, return a list answer of size 2 where:\n",
    "\n",
    "#answer[0] is a list of all distinct* integers in* nums1 which are not* present in* nums2.\n",
    "#answer[1] is a list of all distinct* integers in* nums2 which are not* present in* nums1.\n",
    "#Note that the integers in the lists may be returned in any order.\n",
    "\n",
    "#Example 1:\n",
    "\n",
    "#Input: nums1 = [1,2,3], nums2 = [2,4,6]\n",
    "\n",
    "#Output: [[1,3],[4,6]]"
   ]
  },
  {
   "cell_type": "code",
   "execution_count": 2,
   "id": "1545e5fb-51ba-42bb-8dd4-1dd6633df7c6",
   "metadata": {},
   "outputs": [
    {
     "name": "stdout",
     "output_type": "stream",
     "text": [
      "[[1, 3], [4, 6]]\n"
     ]
    }
   ],
   "source": [
    "def find_disjoint_elements(nums1, nums2):\n",
    "    set1 = set(nums1)\n",
    "    set2 = set(nums2)\n",
    "    \n",
    "    distinct_nums1 = list(set1 - set2)\n",
    "    distinct_nums2 = list(set2 - set1)\n",
    "    \n",
    "    return [distinct_nums1, distinct_nums2]\n",
    "\n",
    "# Test Function\n",
    "nums1 = [1, 2, 3]\n",
    "nums2 = [2, 4, 6]\n",
    "\n",
    "result = find_disjoint_elements(nums1, nums2)\n",
    "print(result) "
   ]
  },
  {
   "cell_type": "code",
   "execution_count": null,
   "id": "5f36cf9e-c9bf-4c54-aa54-947928733b98",
   "metadata": {},
   "outputs": [],
   "source": [
    "#3. Given a 2D integer array matrix, return the transpose of matrix.\n",
    "#The transpose of a matrix is the matrix flipped over its main diagonal, switching the matrix's row and column indices."
   ]
  },
  {
   "cell_type": "code",
   "execution_count": 3,
   "id": "99e648cf-8417-445c-ae4c-ee544fa0bd72",
   "metadata": {},
   "outputs": [
    {
     "name": "stdout",
     "output_type": "stream",
     "text": [
      "[[1, 4, 7], [2, 5, 8], [3, 6, 9]]\n"
     ]
    }
   ],
   "source": [
    "def transpose(matrix):\n",
    "    rows = len(matrix)\n",
    "    cols = len(matrix[0])\n",
    "    \n",
    "    # Creating a new matrix with swapped rows and columns\n",
    "    transposed = [[0] * rows for _ in range(cols)]\n",
    "    \n",
    "    for i in range(rows):\n",
    "        for j in range(cols):\n",
    "            transposed[j][i] = matrix[i][j]\n",
    "    \n",
    "    return transposed\n",
    "\n",
    "# Test Function\n",
    "matrix = [[1, 2, 3], [4, 5, 6], [7, 8, 9]]\n",
    "\n",
    "result = transpose(matrix)\n",
    "print(result) "
   ]
  },
  {
   "cell_type": "code",
   "execution_count": null,
   "id": "184b7542-0137-4667-8c75-0851620c8b0c",
   "metadata": {},
   "outputs": [],
   "source": [
    "#4. Given an integer array nums of 2n integers, group these integers into n pairs (a1, b1), (a2, b2), ..., (an, bn) such that the sum of min(ai, bi) for all i is maximized. Return the maximized sum.\n",
    "#Example 1:\n",
    "\n",
    "#Input: nums = [1,4,3,2]\n",
    "\n",
    "#Output: 4"
   ]
  },
  {
   "cell_type": "code",
   "execution_count": 4,
   "id": "4da35519-4693-44b2-aabd-6ad71f5abf2e",
   "metadata": {},
   "outputs": [
    {
     "name": "stdout",
     "output_type": "stream",
     "text": [
      "4\n"
     ]
    }
   ],
   "source": [
    "def array_pair_sum(nums):\n",
    "    nums.sort()\n",
    "    result = 0\n",
    "    for i in range(0, len(nums), 2):\n",
    "        result += nums[i]\n",
    "    return result\n",
    "\n",
    "# Test Function\n",
    "nums = [1, 4, 3, 2]\n",
    "result = array_pair_sum(nums)\n",
    "print(result) "
   ]
  },
  {
   "cell_type": "code",
   "execution_count": null,
   "id": "62ee2912-c1c4-4d38-bdb0-941f30550428",
   "metadata": {},
   "outputs": [],
   "source": [
    "#5. You have n coins and you want to build a staircase with these coins. The staircase consists of k rows where the ith row has exactly i coins. The last row of the staircase may be incomplete.\n",
    "#Given the integer n, return the number of complete rows* of the staircase you will build*."
   ]
  },
  {
   "cell_type": "code",
   "execution_count": 5,
   "id": "df04fd54-c329-44ca-a6dc-25020ca85981",
   "metadata": {},
   "outputs": [
    {
     "name": "stdout",
     "output_type": "stream",
     "text": [
      "2\n"
     ]
    }
   ],
   "source": [
    "def arrangeCoins(n):\n",
    "    left = 0\n",
    "    right = n\n",
    "    \n",
    "    while left <= right:\n",
    "        k = left + (right - left) // 2\n",
    "        curr = k * (k + 1) // 2\n",
    "        \n",
    "        if curr == n:\n",
    "            return k\n",
    "        \n",
    "        if curr < n:\n",
    "            left = k + 1\n",
    "        else:\n",
    "            right = k - 1\n",
    "    \n",
    "    return right\n",
    "\n",
    "# Test Function\n",
    "n = 5\n",
    "result = arrangeCoins(n)\n",
    "print(result)  "
   ]
  },
  {
   "cell_type": "code",
   "execution_count": null,
   "id": "253621c3-7cde-4a4b-a9a1-2196fe9e6080",
   "metadata": {},
   "outputs": [],
   "source": [
    "#6.  Given an integer array nums sorted in non-decreasing order, return an array of the squares of each number sorted in non-decreasing order.\n",
    "#Example 1:\n",
    "\n",
    "#Input: nums = [-4,-1,0,3,10]\n",
    "\n",
    "#Output: [0,1,9,16,100]"
   ]
  },
  {
   "cell_type": "code",
   "execution_count": 6,
   "id": "6eeab60b-a5c7-4e51-96a6-ac2b3b15f319",
   "metadata": {},
   "outputs": [
    {
     "name": "stdout",
     "output_type": "stream",
     "text": [
      "[0, 1, 9, 16, 100]\n"
     ]
    }
   ],
   "source": [
    "def sortedSquares(nums):\n",
    "    n = len(nums)\n",
    "    result = [0] * n\n",
    "    left = 0\n",
    "    right = n - 1\n",
    "    index = n - 1\n",
    "\n",
    "    while left <= right:\n",
    "        if abs(nums[left]) > abs(nums[right]):\n",
    "            result[index] = nums[left] * nums[left]\n",
    "            left += 1\n",
    "        else:\n",
    "            result[index] = nums[right] * nums[right]\n",
    "            right -= 1\n",
    "        index -= 1\n",
    "\n",
    "    return result\n",
    "\n",
    "# Test Case\n",
    "nums = [-4, -1, 0, 3, 10]\n",
    "result = sortedSquares(nums)\n",
    "print(result) "
   ]
  },
  {
   "cell_type": "code",
   "execution_count": null,
   "id": "fe9456a1-8d0d-45b6-a319-509a7503f9a9",
   "metadata": {},
   "outputs": [],
   "source": [
    "#7. You are given an m x n matrix M initialized with all 0's and an array of operations ops, where ops[i] = [ai, bi] means M[x][y] should be incremented by one for all 0 <= x < ai and 0 <= y < bi.\n",
    "#Count and return the number of maximum integers in the matrix after performing all the operations"
   ]
  },
  {
   "cell_type": "code",
   "execution_count": 7,
   "id": "72907453-3900-42c0-884d-b06ec61f3888",
   "metadata": {},
   "outputs": [
    {
     "name": "stdout",
     "output_type": "stream",
     "text": [
      "4\n"
     ]
    }
   ],
   "source": [
    "def maxCount(m, n, ops):\n",
    "    if not ops:\n",
    "        return m * n\n",
    "\n",
    "    min_a = min(op[0] for op in ops)\n",
    "    min_b = min(op[1] for op in ops)\n",
    "\n",
    "    return min_a * min_b\n",
    "\n",
    "# Test Function\n",
    "m = 3\n",
    "n = 3\n",
    "ops = [[2, 2], [3, 3]]\n",
    "result = maxCount(m, n, ops)\n",
    "print(result) "
   ]
  },
  {
   "cell_type": "code",
   "execution_count": null,
   "id": "ec82be3e-026c-4732-94f2-e441aa7baa24",
   "metadata": {},
   "outputs": [],
   "source": [
    "#8. Given the array nums consisting of 2n elements in the form [x1,x2,...,xn,y1,y2,...,yn].\n",
    "\n",
    "#Return the array in the form [x1,y1,x2,y2,...,xn,yn].\n",
    "\n",
    "#Example 1:\n",
    "\n",
    "#Input: nums = [2,5,1,3,4,7], n = 3\n",
    "\n",
    "#Output: [2,3,5,4,1,7]\n",
    "\n",
    "#Explanation: Since x1=2, x2=5, x3=1, y1=3, y2=4, y3=7 then the answer is [2,3,5,4,1,7]."
   ]
  },
  {
   "cell_type": "code",
   "execution_count": 8,
   "id": "38575b67-df25-46ba-afa8-627ce55b59fd",
   "metadata": {},
   "outputs": [
    {
     "name": "stdout",
     "output_type": "stream",
     "text": [
      "[2, 3, 5, 4, 1, 7]\n"
     ]
    }
   ],
   "source": [
    "def shuffle(nums, n):\n",
    "    result = []\n",
    "    i = 0  \n",
    "    j = n  \n",
    "\n",
    "    while i < n:\n",
    "        result.append(nums[i])\n",
    "        result.append(nums[j])\n",
    "        i += 1\n",
    "        j += 1\n",
    "\n",
    "    return result\n",
    "\n",
    "# Test Function\n",
    "nums = [2, 5, 1, 3, 4, 7]\n",
    "n = 3\n",
    "result = shuffle(nums, n)\n",
    "print(result)"
   ]
  },
  {
   "cell_type": "code",
   "execution_count": null,
   "id": "e469c363-45d6-435a-9539-a636b652008b",
   "metadata": {},
   "outputs": [],
   "source": []
  }
 ],
 "metadata": {
  "kernelspec": {
   "display_name": "Python 3 (ipykernel)",
   "language": "python",
   "name": "python3"
  },
  "language_info": {
   "codemirror_mode": {
    "name": "ipython",
    "version": 3
   },
   "file_extension": ".py",
   "mimetype": "text/x-python",
   "name": "python",
   "nbconvert_exporter": "python",
   "pygments_lexer": "ipython3",
   "version": "3.10.6"
  }
 },
 "nbformat": 4,
 "nbformat_minor": 5
}
